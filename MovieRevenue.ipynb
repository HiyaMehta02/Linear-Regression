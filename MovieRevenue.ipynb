{
 "cells": [
  {
   "cell_type": "code",
   "execution_count": null,
   "metadata": {
    "vscode": {
     "languageId": "plaintext"
    }
   },
   "outputs": [],
   "source": [
    "import pandas as pd \n",
    "import seaborn as sns\n",
    "\n",
    "import matplotlib.pyplot as plt\n",
    "%matplotlib inline\n",
    "\n",
    "import numpy as np\n",
    "\n",
    "import ast"
   ]
  },
  {
   "cell_type": "code",
   "execution_count": null,
   "metadata": {
    "vscode": {
     "languageId": "plaintext"
    }
   },
   "outputs": [],
   "source": [
    "# Reading and loading datasets\n",
    "movie_df = pd.read_csv('movies.csv')\n",
    "\n",
    "movie_df.info()"
   ]
  },
  {
   "cell_type": "code",
   "execution_count": null,
   "metadata": {
    "vscode": {
     "languageId": "plaintext"
    }
   },
   "outputs": [],
   "source": [
    "movie_df['genres'] = movie_df['genres'].apply(lambda x: x.split('-')[0] if isinstance(x, str) else x)\n",
    "\n",
    "movie_df.to_csv('modified_file.csv', index=False)"
   ]
  },
  {
   "cell_type": "code",
   "execution_count": null,
   "metadata": {
    "vscode": {
     "languageId": "plaintext"
    }
   },
   "outputs": [],
   "source": [
    "import pandas as pd\n",
    "from sklearn.preprocessing import LabelEncoder\n",
    "\n",
    "movie_df['genres'] = movie_df['genres'].fillna('')\n",
    "\n",
    "movie_df['genres'] = movie_df['genres'].apply(lambda x: x.split(', ') if isinstance(x, str) else [])\n",
    "\n",
    "all_genres = [genre for sublist in movie_df['genres'].tolist() for genre in sublist]\n",
    "encoder = LabelEncoder()\n",
    "encoder.fit(all_genres)\n",
    "\n",
    "movie_df['Genres_Encoded'] = movie_df['genres'].apply(lambda x: encoder.transform([x])[0] if x else None)"
   ]
  },
  {
   "cell_type": "code",
   "execution_count": null,
   "metadata": {
    "vscode": {
     "languageId": "plaintext"
    }
   },
   "outputs": [],
   "source": [
    "movie_df.head()"
   ]
  },
  {
   "cell_type": "code",
   "execution_count": null,
   "metadata": {
    "vscode": {
     "languageId": "plaintext"
    }
   },
   "outputs": [],
   "source": [
    "plt.hist(movie_df['revenue'], bins=10)\n",
    "plt.xlabel(\"Movie Ratings\")\n",
    "plt.show()"
   ]
  },
  {
   "cell_type": "code",
   "execution_count": null,
   "metadata": {
    "vscode": {
     "languageId": "plaintext"
    }
   },
   "outputs": [],
   "source": [
    "movie_df.hist(bins=50, figsize=(20,15))\n",
    "plt.show()"
   ]
  },
  {
   "cell_type": "code",
   "execution_count": null,
   "metadata": {
    "vscode": {
     "languageId": "plaintext"
    }
   },
   "outputs": [],
   "source": [
    "numeric_df = movie_df.select_dtypes(include=['float64', 'int64'])\n",
    "corr = numeric_df.corr()\n",
    "print(corr)"
   ]
  },
  {
   "cell_type": "code",
   "execution_count": null,
   "metadata": {
    "vscode": {
     "languageId": "plaintext"
    }
   },
   "outputs": [],
   "source": [
    "plt.figure(figsize = (8,8))\n",
    "\n",
    "sns.heatmap(corr, annot=True)\n",
    "plt.show()"
   ]
  },
  {
   "cell_type": "code",
   "execution_count": null,
   "metadata": {
    "vscode": {
     "languageId": "plaintext"
    }
   },
   "outputs": [],
   "source": [
    "movie_df.isnull().sum()"
   ]
  },
  {
   "cell_type": "code",
   "execution_count": null,
   "metadata": {
    "vscode": {
     "languageId": "plaintext"
    }
   },
   "outputs": [],
   "source": [
    "import sklearn\n",
    "from sklearn.model_selection import train_test_split\n",
    "\n",
    "print(movie_df.columns.tolist())\n",
    "\n",
    "X = movie_df[['title', 'genres','popularity','production_companies','release_date','budget', 'vote_average','runtime','vote_count', 'recommendations', 'Genres_Encoded']]\n",
    "y = movie_df['revenue']\n",
    "X.columns.tolist()\n",
    "print(X.columns.tolist())"
   ]
  },
  {
   "cell_type": "code",
   "execution_count": null,
   "metadata": {
    "vscode": {
     "languageId": "plaintext"
    }
   },
   "outputs": [],
   "source": [
    "X_train, X_test, y_train, y_test = train_test_split(X, y, random_state=42, shuffle=True, test_size=0.3)"
   ]
  },
  {
   "cell_type": "code",
   "execution_count": null,
   "metadata": {
    "vscode": {
     "languageId": "plaintext"
    }
   },
   "outputs": [],
   "source": [
    "categorical_columns = ['title', 'genres', 'production_companies', 'recommendations']\n",
    "\n",
    "for col in categorical_columns:\n",
    "    X_train[col] = X_train[col].fillna('unknown')\n",
    "    X_test[col] = X_test[col].fillna('unknown')\n",
    "\n",
    "X_train = X_train.select_dtypes(exclude=['object'])\n",
    "X_test = X_test.select_dtypes(exclude=['object'])\n",
    "\n",
    "columns_to_drop = ['title', 'genres', 'production_companies', 'release_date', 'recommendations']\n",
    "X = X.drop(columns=columns_to_drop)"
   ]
  },
  {
   "cell_type": "code",
   "execution_count": null,
   "metadata": {
    "vscode": {
     "languageId": "plaintext"
    }
   },
   "outputs": [],
   "source": [
    "X.head()\n"
   ]
  },
  {
   "cell_type": "code",
   "execution_count": null,
   "metadata": {
    "vscode": {
     "languageId": "plaintext"
    }
   },
   "outputs": [],
   "source": [
    "# !pip install xgboost\n",
    "from xgboost import XGBRegressor\n",
    "\n",
    "xgb_model = XGBRegressor()"
   ]
  },
  {
   "cell_type": "code",
   "execution_count": null,
   "metadata": {
    "vscode": {
     "languageId": "plaintext"
    }
   },
   "outputs": [],
   "source": [
    "xgb_model.fit(X_train, y_train)"
   ]
  },
  {
   "cell_type": "code",
   "execution_count": null,
   "metadata": {
    "vscode": {
     "languageId": "plaintext"
    }
   },
   "outputs": [],
   "source": [
    "y_xgb_pred_test = xgb_model.predict(X_test)"
   ]
  },
  {
   "cell_type": "code",
   "execution_count": null,
   "metadata": {
    "vscode": {
     "languageId": "plaintext"
    }
   },
   "outputs": [],
   "source": [
    "xgb_pred_test_df = pd.DataFrame({'Actual': y_test, 'Predicted': y_xgb_pred_test})\n",
    "\n",
    "xgb_pred_test_df"
   ]
  },
  {
   "cell_type": "code",
   "execution_count": null,
   "metadata": {
    "vscode": {
     "languageId": "plaintext"
    }
   },
   "outputs": [],
   "source": [
    "fig= plt.figure(figsize=(8,8))\n",
    "xgb_pred_test_df = xgb_pred_test_df.reset_index()\n",
    "xgb_pred_test_df = xgb_pred_test_df.drop(['index'],axis=1)\n",
    "plt.plot(xgb_pred_test_df[:50])\n",
    "plt.legend(['Actual value','Predicted value'])\n",
    "plt.show()"
   ]
  },
  {
   "cell_type": "code",
   "execution_count": null,
   "metadata": {
    "vscode": {
     "languageId": "plaintext"
    }
   },
   "outputs": [],
   "source": [
    "from sklearn.metrics import r2_score\n",
    "\n",
    "score = r2_score(y_test, y_xgb_pred_test)\n",
    "\n",
    "print(\"R^2 - {}%\".format(round(score, 2) *100))"
   ]
  },
  {
   "cell_type": "code",
   "execution_count": null,
   "metadata": {
    "vscode": {
     "languageId": "plaintext"
    }
   },
   "outputs": [],
   "source": [
    "# We can build and score a model on multiple folds using cross-validation\n",
    "from sklearn.model_selection import RepeatedKFold\n",
    "from sklearn.model_selection import cross_val_score\n",
    "\n",
    "\n",
    "# define model evaluation method\n",
    "cv = RepeatedKFold(n_splits=10, n_repeats=3, random_state=1)\n",
    "\n",
    "scores = cross_val_score(xgb_model, X, y, scoring='r2', error_score='raise', cv=cv, n_jobs=-1, verbose=1)\n",
    "\n",
    "#average of all the r2 scores across runs\n",
    "print(scores.mean())"
   ]
  },
  {
   "cell_type": "code",
   "execution_count": null,
   "metadata": {
    "vscode": {
     "languageId": "plaintext"
    }
   },
   "outputs": [],
   "source": [
    "# determine hyperparameter available for tuning\n",
    "xgb_model.get_params()"
   ]
  },
  {
   "cell_type": "code",
   "execution_count": null,
   "metadata": {
    "vscode": {
     "languageId": "plaintext"
    }
   },
   "outputs": [],
   "source": [
    "xgb_model_2 = XGBRegressor(\n",
    "    gamma=1,\n",
    "    learning_rate=0.001,\n",
    "    max_depth=8,\n",
    "    n_estimators=15000,\n",
    "    n_jobs=15,\n",
    "    objective='reg:squarederror',\n",
    "    subsample=0.8,\n",
    "    scale_pos_weight=0,\n",
    "    reg_alpha=0,\n",
    "    reg_lambda=1,\n",
    "    verbosity=1)\n",
    "\n",
    "xgb_model_2.fit(X_train, y_train)\n",
    "\n",
    "#run the predictions on the training and testing data\n",
    "y_xgb_2_pred_test = xgb_model_2.predict(X_test)"
   ]
  },
  {
   "cell_type": "code",
   "execution_count": null,
   "metadata": {
    "vscode": {
     "languageId": "plaintext"
    }
   },
   "outputs": [],
   "source": [
    "# compare the actual values (ie, target) with the values predicted by the model\n",
    "xgb_2_pred_test_df = pd.DataFrame({'Actual': y_test, 'Predicted': y_xgb_2_pred_test})\n",
    "\n",
    "xgb_2_pred_test_df"
   ]
  },
  {
   "cell_type": "code",
   "execution_count": null,
   "metadata": {
    "vscode": {
     "languageId": "plaintext"
    }
   },
   "outputs": [],
   "source": [
    "fig= plt.figure(figsize=(8,8))\n",
    "xgb_2_pred_test_df = xgb_2_pred_test_df.reset_index()\n",
    "xgb_2_pred_test_df = xgb_2_pred_test_df.drop(['index'],axis=1)\n",
    "plt.plot(xgb_2_pred_test_df[:50])\n",
    "plt.legend(['Actual value','Predicted value'])"
   ]
  },
  {
   "cell_type": "code",
   "execution_count": null,
   "metadata": {
    "vscode": {
     "languageId": "plaintext"
    }
   },
   "outputs": [],
   "source": [
    "# Determine accuracy uisng 𝑅^2\n",
    "r2_xgb_model_2_test = xgb_model_2.score(X_test, y_test)\n",
    "\n",
    "print(\"R^2 Test: {}\".format(r2_xgb_model_2_test, 2))"
   ]
  },
  {
   "cell_type": "code",
   "execution_count": null,
   "metadata": {
    "vscode": {
     "languageId": "plaintext"
    }
   },
   "outputs": [],
   "source": [
    "import pandas as pd\n",
    "\n",
    "# Example: Let's assume these are the features your model expects (you can modify this based on your actual features)\n",
    "# For example, this could include budget, genre, and release year (but you need to match the features your model was trained on)\n",
    "\n",
    "# Step 1: Prepare the input data for the movie you want to predict the revenue for\n",
    "movie_data = {\n",
    "    'popularity': [6500.123],         # Popularity score of the movie\n",
    "    'budget': [120000000.0],          # Budget in dollars\n",
    "    'vote_average': [7.85],           # Average user rating (e.g., 7.85/10)\n",
    "    'runtime': [140.0],               # Runtime in minutes\n",
    "    'vote_count': [2500.0],           # Total number of votes\n",
    "    'Genres_Encoded': [3],\n",
    "}\n",
    "\n",
    "# Step 2: Convert the input data into a DataFrame (matching the format your model was trained on)\n",
    "movie_temp_df = pd.DataFrame(movie_data)\n",
    "\n",
    "# Step 3: Use the trained XGBoost model to predict the revenue\n",
    "predicted_revenue = xgb_model.predict(movie_temp_df)\n",
    "\n",
    "# Step 4: Print the predicted revenue\n",
    "print(f\"Predicted revenue for the movie: ${predicted_revenue[0]:,.2f}\")\n"
   ]
  }
 ],
 "metadata": {
  "language_info": {
   "name": "python"
  }
 },
 "nbformat": 4,
 "nbformat_minor": 2
}
