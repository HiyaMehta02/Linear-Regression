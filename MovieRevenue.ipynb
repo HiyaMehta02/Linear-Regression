{
 "cells": [
  {
   "cell_type": "code",
   "execution_count": null,
   "metadata": {
    "vscode": {
     "languageId": "plaintext"
    }
   },
   "outputs": [],
   "source": [
    "import pandas as pd \n",
    "import seaborn as sns\n",
    "\n",
    "import matplotlib.pyplot as plt\n",
    "%matplotlib inline\n",
    "\n",
    "import numpy as np\n",
    "\n",
    "import ast"
   ]
  },
  {
   "cell_type": "code",
   "execution_count": null,
   "metadata": {
    "vscode": {
     "languageId": "plaintext"
    }
   },
   "outputs": [],
   "source": [
    "# Reading and loading datasets\n",
    "movie_df = pd.read_csv('movies.csv')\n",
    "\n",
    "movie_df = movie_df.sample(frac=0.5, random_state=42)\n",
    "\n",
    "# movie_df.to_csv('movies_half.csv', index=False)\n",
    "\n",
    "movie_df.info()"
   ]
  },
  {
   "cell_type": "code",
   "execution_count": null,
   "metadata": {
    "vscode": {
     "languageId": "plaintext"
    }
   },
   "outputs": [],
   "source": [
    "movie_df['genres'] = movie_df['genres'].apply(lambda x: x.split('-')[0] if isinstance(x, str) else x)\n",
    "\n",
    "movie_df.to_csv('modified_file.csv', index=False)"
   ]
  }
 ],
 "metadata": {
  "language_info": {
   "name": "python"
  }
 },
 "nbformat": 4,
 "nbformat_minor": 2
}
